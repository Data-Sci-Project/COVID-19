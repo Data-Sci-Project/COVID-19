{
  "nbformat": 4,
  "nbformat_minor": 0,
  "metadata": {
    "colab": {
      "name": "COVID_COVID_linear",
      "provenance": [],
      "collapsed_sections": []
    },
    "kernelspec": {
      "name": "python3",
      "display_name": "Python 3"
    }
  },
  "cells": [
    {
      "cell_type": "code",
      "metadata": {
        "id": "F8_N0Jk_l1pd"
      },
      "source": [
        "import matplotlib.pyplot as plt\n",
        "import pandas as pd\n",
        "import pylab as pl\n",
        "import numpy as np\n",
        "%matplotlib inline"
      ],
      "execution_count": null,
      "outputs": []
    },
    {
      "cell_type": "code",
      "metadata": {
        "id": "NYxZSoOZmBok",
        "colab": {
          "resources": {
            "http://localhost:8080/nbextensions/google.colab/files.js": {
              "data": "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",
              "ok": true,
              "headers": [
                [
                  "content-type",
                  "application/javascript"
                ]
              ],
              "status": 200,
              "status_text": "OK"
            }
          },
          "base_uri": "https://localhost:8080/",
          "height": 74
        },
        "outputId": "f0f90573-6ecb-401c-f764-30152bb18b31"
      },
      "source": [
        "from google.colab import files \n",
        "uploaded = files.upload()"
      ],
      "execution_count": null,
      "outputs": [
        {
          "output_type": "display_data",
          "data": {
            "text/html": [
              "\n",
              "     <input type=\"file\" id=\"files-d51fb7ae-076f-45c2-be0f-bd6ad8495814\" name=\"files[]\" multiple disabled\n",
              "        style=\"border:none\" />\n",
              "     <output id=\"result-d51fb7ae-076f-45c2-be0f-bd6ad8495814\">\n",
              "      Upload widget is only available when the cell has been executed in the\n",
              "      current browser session. Please rerun this cell to enable.\n",
              "      </output>\n",
              "      <script src=\"/nbextensions/google.colab/files.js\"></script> "
            ],
            "text/plain": [
              "<IPython.core.display.HTML object>"
            ]
          },
          "metadata": {}
        },
        {
          "output_type": "stream",
          "name": "stdout",
          "text": [
            "Saving covid.csv to covid.csv\n"
          ]
        }
      ]
    },
    {
      "cell_type": "code",
      "metadata": {
        "id": "eb7SdRRimG3z"
      },
      "source": [
        "import io"
      ],
      "execution_count": null,
      "outputs": []
    },
    {
      "cell_type": "code",
      "metadata": {
        "id": "7zxQ7aRuBKXb",
        "colab": {
          "base_uri": "https://localhost:8080/",
          "height": 802
        },
        "outputId": "c6e6f482-b9a7-437f-d1eb-947ede6fe2c1"
      },
      "source": [
        "df = pd.read_csv(io.BytesIO(uploaded['covid.csv']))\n",
        "df"
      ],
      "execution_count": null,
      "outputs": [
        {
          "output_type": "execute_result",
          "data": {
            "text/html": [
              "<div>\n",
              "<style scoped>\n",
              "    .dataframe tbody tr th:only-of-type {\n",
              "        vertical-align: middle;\n",
              "    }\n",
              "\n",
              "    .dataframe tbody tr th {\n",
              "        vertical-align: top;\n",
              "    }\n",
              "\n",
              "    .dataframe thead th {\n",
              "        text-align: right;\n",
              "    }\n",
              "</style>\n",
              "<table border=\"1\" class=\"dataframe\">\n",
              "  <thead>\n",
              "    <tr style=\"text-align: right;\">\n",
              "      <th></th>\n",
              "      <th>country</th>\n",
              "      <th>pop</th>\n",
              "      <th>pop_density</th>\n",
              "      <th>literacy</th>\n",
              "      <th>health_GDP</th>\n",
              "      <th>testings_10</th>\n",
              "      <th>testings_40</th>\n",
              "      <th>hospital_beds</th>\n",
              "      <th>recovery_20</th>\n",
              "      <th>recovery_60</th>\n",
              "      <th>weeks_to_flat</th>\n",
              "    </tr>\n",
              "  </thead>\n",
              "  <tbody>\n",
              "    <tr>\n",
              "      <th>0</th>\n",
              "      <td>U S</td>\n",
              "      <td>328.20</td>\n",
              "      <td>92.9</td>\n",
              "      <td>86.00</td>\n",
              "      <td>3644.6</td>\n",
              "      <td>20</td>\n",
              "      <td>490.0</td>\n",
              "      <td>2.77</td>\n",
              "      <td>7.1026</td>\n",
              "      <td>151.300</td>\n",
              "      <td>21.0</td>\n",
              "    </tr>\n",
              "    <tr>\n",
              "      <th>1</th>\n",
              "      <td>Pakistan</td>\n",
              "      <td>220.00</td>\n",
              "      <td>742.0</td>\n",
              "      <td>65.00</td>\n",
              "      <td>2.8</td>\n",
              "      <td>8</td>\n",
              "      <td>30.0</td>\n",
              "      <td>0.60</td>\n",
              "      <td>46.9000</td>\n",
              "      <td>252.110</td>\n",
              "      <td>18.1</td>\n",
              "    </tr>\n",
              "    <tr>\n",
              "      <th>2</th>\n",
              "      <td>Bangladesh</td>\n",
              "      <td>161.40</td>\n",
              "      <td>2889.5</td>\n",
              "      <td>72.89</td>\n",
              "      <td>7.2</td>\n",
              "      <td>5</td>\n",
              "      <td>30.0</td>\n",
              "      <td>0.80</td>\n",
              "      <td>22.5200</td>\n",
              "      <td>211.264</td>\n",
              "      <td>12.7</td>\n",
              "    </tr>\n",
              "    <tr>\n",
              "      <th>3</th>\n",
              "      <td>Russia</td>\n",
              "      <td>144.50</td>\n",
              "      <td>23.0</td>\n",
              "      <td>99.73</td>\n",
              "      <td>87.4</td>\n",
              "      <td>70</td>\n",
              "      <td>910.0</td>\n",
              "      <td>8.05</td>\n",
              "      <td>66.2300</td>\n",
              "      <td>187.355</td>\n",
              "      <td>8.9</td>\n",
              "    </tr>\n",
              "    <tr>\n",
              "      <th>4</th>\n",
              "      <td>Egypt</td>\n",
              "      <td>98.40</td>\n",
              "      <td>266.0</td>\n",
              "      <td>71.17</td>\n",
              "      <td>16.0</td>\n",
              "      <td>10</td>\n",
              "      <td>30.0</td>\n",
              "      <td>1.60</td>\n",
              "      <td>216.4100</td>\n",
              "      <td>239.190</td>\n",
              "      <td>19.4</td>\n",
              "    </tr>\n",
              "    <tr>\n",
              "      <th>5</th>\n",
              "      <td>Germany</td>\n",
              "      <td>83.00</td>\n",
              "      <td>623.0</td>\n",
              "      <td>99.00</td>\n",
              "      <td>434.6</td>\n",
              "      <td>190</td>\n",
              "      <td>700.0</td>\n",
              "      <td>8.00</td>\n",
              "      <td>10.3000</td>\n",
              "      <td>721.220</td>\n",
              "      <td>5.1</td>\n",
              "    </tr>\n",
              "    <tr>\n",
              "      <th>6</th>\n",
              "      <td>Turkey</td>\n",
              "      <td>82.90</td>\n",
              "      <td>284.0</td>\n",
              "      <td>96.15</td>\n",
              "      <td>31.2</td>\n",
              "      <td>50</td>\n",
              "      <td>460.0</td>\n",
              "      <td>2.81</td>\n",
              "      <td>38.4900</td>\n",
              "      <td>724.670</td>\n",
              "      <td>4.6</td>\n",
              "    </tr>\n",
              "    <tr>\n",
              "      <th>7</th>\n",
              "      <td>France</td>\n",
              "      <td>67.00</td>\n",
              "      <td>309.0</td>\n",
              "      <td>99.00</td>\n",
              "      <td>306.2</td>\n",
              "      <td>118</td>\n",
              "      <td>5114.0</td>\n",
              "      <td>5.98</td>\n",
              "      <td>117.7800</td>\n",
              "      <td>375.480</td>\n",
              "      <td>10.7</td>\n",
              "    </tr>\n",
              "    <tr>\n",
              "      <th>8</th>\n",
              "      <td>United Kingdom</td>\n",
              "      <td>66.60</td>\n",
              "      <td>712.2</td>\n",
              "      <td>99.00</td>\n",
              "      <td>268.8</td>\n",
              "      <td>40</td>\n",
              "      <td>240.0</td>\n",
              "      <td>2.54</td>\n",
              "      <td>123.4600</td>\n",
              "      <td>346.230</td>\n",
              "      <td>6.9</td>\n",
              "    </tr>\n",
              "    <tr>\n",
              "      <th>9</th>\n",
              "      <td>Italy</td>\n",
              "      <td>60.40</td>\n",
              "      <td>532.0</td>\n",
              "      <td>98.85</td>\n",
              "      <td>174.9</td>\n",
              "      <td>40</td>\n",
              "      <td>520.0</td>\n",
              "      <td>3.18</td>\n",
              "      <td>83.3200</td>\n",
              "      <td>281.190</td>\n",
              "      <td>5.1</td>\n",
              "    </tr>\n",
              "    <tr>\n",
              "      <th>10</th>\n",
              "      <td>South Africa</td>\n",
              "      <td>57.80</td>\n",
              "      <td>127.0</td>\n",
              "      <td>94.37</td>\n",
              "      <td>29.1</td>\n",
              "      <td>20</td>\n",
              "      <td>100.0</td>\n",
              "      <td>2.32</td>\n",
              "      <td>34.1900</td>\n",
              "      <td>383.870</td>\n",
              "      <td>18.4</td>\n",
              "    </tr>\n",
              "    <tr>\n",
              "      <th>11</th>\n",
              "      <td>Spain</td>\n",
              "      <td>46.90</td>\n",
              "      <td>243.0</td>\n",
              "      <td>98.44</td>\n",
              "      <td>124.4</td>\n",
              "      <td>518</td>\n",
              "      <td>7391.0</td>\n",
              "      <td>2.97</td>\n",
              "      <td>51.4800</td>\n",
              "      <td>360.550</td>\n",
              "      <td>5.1</td>\n",
              "    </tr>\n",
              "    <tr>\n",
              "      <th>12</th>\n",
              "      <td>Canada</td>\n",
              "      <td>37.60</td>\n",
              "      <td>11.0</td>\n",
              "      <td>99.00</td>\n",
              "      <td>185.2</td>\n",
              "      <td>250</td>\n",
              "      <td>450.0</td>\n",
              "      <td>2.50</td>\n",
              "      <td>57.1350</td>\n",
              "      <td>418.730</td>\n",
              "      <td>8.4</td>\n",
              "    </tr>\n",
              "    <tr>\n",
              "      <th>13</th>\n",
              "      <td>Saudi Arabia</td>\n",
              "      <td>33.70</td>\n",
              "      <td>42.0</td>\n",
              "      <td>95.33</td>\n",
              "      <td>40.8</td>\n",
              "      <td>20</td>\n",
              "      <td>340.0</td>\n",
              "      <td>2.70</td>\n",
              "      <td>153.4800</td>\n",
              "      <td>310.550</td>\n",
              "      <td>14.6</td>\n",
              "    </tr>\n",
              "    <tr>\n",
              "      <th>14</th>\n",
              "      <td>Peru</td>\n",
              "      <td>32.00</td>\n",
              "      <td>67.0</td>\n",
              "      <td>94.41</td>\n",
              "      <td>11.4</td>\n",
              "      <td>20</td>\n",
              "      <td>50.0</td>\n",
              "      <td>1.60</td>\n",
              "      <td>523.4800</td>\n",
              "      <td>312.030</td>\n",
              "      <td>11.6</td>\n",
              "    </tr>\n",
              "    <tr>\n",
              "      <th>15</th>\n",
              "      <td>Chile</td>\n",
              "      <td>18.70</td>\n",
              "      <td>63.0</td>\n",
              "      <td>96.87</td>\n",
              "      <td>26.2</td>\n",
              "      <td>100</td>\n",
              "      <td>350.0</td>\n",
              "      <td>2.11</td>\n",
              "      <td>8.7800</td>\n",
              "      <td>380.450</td>\n",
              "      <td>13.9</td>\n",
              "    </tr>\n",
              "    <tr>\n",
              "      <th>16</th>\n",
              "      <td>Bolivia</td>\n",
              "      <td>11.40</td>\n",
              "      <td>26.0</td>\n",
              "      <td>92.50</td>\n",
              "      <td>2.7</td>\n",
              "      <td>10</td>\n",
              "      <td>40.0</td>\n",
              "      <td>1.10</td>\n",
              "      <td>17.6300</td>\n",
              "      <td>100.430</td>\n",
              "      <td>13.0</td>\n",
              "    </tr>\n",
              "    <tr>\n",
              "      <th>17</th>\n",
              "      <td>Sweden</td>\n",
              "      <td>10.20</td>\n",
              "      <td>64.0</td>\n",
              "      <td>99.00</td>\n",
              "      <td>58.3</td>\n",
              "      <td>1408</td>\n",
              "      <td>7391.0</td>\n",
              "      <td>2.22</td>\n",
              "      <td>46.2500</td>\n",
              "      <td>103.220</td>\n",
              "      <td>16.4</td>\n",
              "    </tr>\n",
              "    <tr>\n",
              "      <th>18</th>\n",
              "      <td>Netherlands</td>\n",
              "      <td>10.00</td>\n",
              "      <td>1264.0</td>\n",
              "      <td>99.00</td>\n",
              "      <td>89.3</td>\n",
              "      <td>100</td>\n",
              "      <td>330.0</td>\n",
              "      <td>3.32</td>\n",
              "      <td>156.2300</td>\n",
              "      <td>260.590</td>\n",
              "      <td>6.3</td>\n",
              "    </tr>\n",
              "    <tr>\n",
              "      <th>19</th>\n",
              "      <td>UAE</td>\n",
              "      <td>9.50</td>\n",
              "      <td>305.7</td>\n",
              "      <td>93.20</td>\n",
              "      <td>13.5</td>\n",
              "      <td>560</td>\n",
              "      <td>4820.0</td>\n",
              "      <td>1.20</td>\n",
              "      <td>111.1100</td>\n",
              "      <td>228.480</td>\n",
              "      <td>11.1</td>\n",
              "    </tr>\n",
              "    <tr>\n",
              "      <th>20</th>\n",
              "      <td>Oman</td>\n",
              "      <td>5.15</td>\n",
              "      <td>43.0</td>\n",
              "      <td>95.65</td>\n",
              "      <td>2.9</td>\n",
              "      <td>78</td>\n",
              "      <td>825.0</td>\n",
              "      <td>1.60</td>\n",
              "      <td>199.6300</td>\n",
              "      <td>285.870</td>\n",
              "      <td>12.6</td>\n",
              "    </tr>\n",
              "    <tr>\n",
              "      <th>21</th>\n",
              "      <td>New Zealand</td>\n",
              "      <td>5.00</td>\n",
              "      <td>46.0</td>\n",
              "      <td>99.00</td>\n",
              "      <td>19.0</td>\n",
              "      <td>40</td>\n",
              "      <td>1110.0</td>\n",
              "      <td>2.61</td>\n",
              "      <td>255.8500</td>\n",
              "      <td>959.410</td>\n",
              "      <td>2.9</td>\n",
              "    </tr>\n",
              "    <tr>\n",
              "      <th>22</th>\n",
              "      <td>Kuwait</td>\n",
              "      <td>4.50</td>\n",
              "      <td>614.0</td>\n",
              "      <td>96.06</td>\n",
              "      <td>7.3</td>\n",
              "      <td>3485</td>\n",
              "      <td>20855.0</td>\n",
              "      <td>2.00</td>\n",
              "      <td>236.8400</td>\n",
              "      <td>301.740</td>\n",
              "      <td>11.3</td>\n",
              "    </tr>\n",
              "    <tr>\n",
              "      <th>23</th>\n",
              "      <td>Panama</td>\n",
              "      <td>4.40</td>\n",
              "      <td>141.0</td>\n",
              "      <td>95.41</td>\n",
              "      <td>5.0</td>\n",
              "      <td>80</td>\n",
              "      <td>210.0</td>\n",
              "      <td>2.30</td>\n",
              "      <td>7.2100</td>\n",
              "      <td>678.000</td>\n",
              "      <td>18.0</td>\n",
              "    </tr>\n",
              "  </tbody>\n",
              "</table>\n",
              "</div>"
            ],
            "text/plain": [
              "          country      pop  ...  recovery_60  weeks_to_flat\n",
              "0              U S  328.20  ...      151.300           21.0\n",
              "1         Pakistan  220.00  ...      252.110           18.1\n",
              "2       Bangladesh  161.40  ...      211.264           12.7\n",
              "3           Russia  144.50  ...      187.355            8.9\n",
              "4            Egypt   98.40  ...      239.190           19.4\n",
              "5          Germany   83.00  ...      721.220            5.1\n",
              "6          Turkey    82.90  ...      724.670            4.6\n",
              "7          France    67.00  ...      375.480           10.7\n",
              "8   United Kingdom   66.60  ...      346.230            6.9\n",
              "9            Italy   60.40  ...      281.190            5.1\n",
              "10    South Africa   57.80  ...      383.870           18.4\n",
              "11           Spain   46.90  ...      360.550            5.1\n",
              "12          Canada   37.60  ...      418.730            8.4\n",
              "13    Saudi Arabia   33.70  ...      310.550           14.6\n",
              "14           Peru    32.00  ...      312.030           11.6\n",
              "15           Chile   18.70  ...      380.450           13.9\n",
              "16         Bolivia   11.40  ...      100.430           13.0\n",
              "17          Sweden   10.20  ...      103.220           16.4\n",
              "18     Netherlands   10.00  ...      260.590            6.3\n",
              "19             UAE    9.50  ...      228.480           11.1\n",
              "20            Oman    5.15  ...      285.870           12.6\n",
              "21     New Zealand    5.00  ...      959.410            2.9\n",
              "22          Kuwait    4.50  ...      301.740           11.3\n",
              "23          Panama    4.40  ...      678.000           18.0\n",
              "\n",
              "[24 rows x 11 columns]"
            ]
          },
          "metadata": {},
          "execution_count": 6
        }
      ]
    },
    {
      "cell_type": "code",
      "metadata": {
        "id": "-vF31WtFBMn3",
        "colab": {
          "base_uri": "https://localhost:8080/"
        },
        "outputId": "f877304f-baf2-4076-883e-696bfff7ff7e"
      },
      "source": [
        "df.dtypes"
      ],
      "execution_count": null,
      "outputs": [
        {
          "output_type": "execute_result",
          "data": {
            "text/plain": [
              "country           object\n",
              "pop              float64\n",
              "pop_density      float64\n",
              "literacy         float64\n",
              "health_GDP       float64\n",
              "testings_10        int64\n",
              "testings_40      float64\n",
              "hospital_beds    float64\n",
              "recovery_20      float64\n",
              "recovery_60      float64\n",
              "weeks_to_flat    float64\n",
              "dtype: object"
            ]
          },
          "metadata": {},
          "execution_count": 7
        }
      ]
    },
    {
      "cell_type": "code",
      "metadata": {
        "id": "AnAa6GAbDw-z"
      },
      "source": [
        "df[\"testings_10\"] = df[\"testings_10\"].astype(\"float64\")"
      ],
      "execution_count": null,
      "outputs": []
    },
    {
      "cell_type": "code",
      "metadata": {
        "id": "TW4DfRSgKzvU",
        "colab": {
          "base_uri": "https://localhost:8080/"
        },
        "outputId": "9c06c80e-edea-4ae9-b79f-41502cf9c196"
      },
      "source": [
        "df.dtypes"
      ],
      "execution_count": null,
      "outputs": [
        {
          "output_type": "execute_result",
          "data": {
            "text/plain": [
              "country           object\n",
              "pop              float64\n",
              "pop_density      float64\n",
              "literacy         float64\n",
              "health_GDP       float64\n",
              "testings_10      float64\n",
              "testings_40      float64\n",
              "hospital_beds    float64\n",
              "recovery_20      float64\n",
              "recovery_60      float64\n",
              "weeks_to_flat    float64\n",
              "dtype: object"
            ]
          },
          "metadata": {},
          "execution_count": 9
        }
      ]
    },
    {
      "cell_type": "code",
      "metadata": {
        "id": "GLirNIIVj-57",
        "colab": {
          "base_uri": "https://localhost:8080/",
          "height": 171
        },
        "outputId": "3bb46131-a71b-41ce-db15-01283d270d8d"
      },
      "source": [
        "df = df.drop([0],[21],[22], axis=0, inplace = True)"
      ],
      "execution_count": null,
      "outputs": [
        {
          "output_type": "error",
          "ename": "TypeError",
          "evalue": "ignored",
          "traceback": [
            "\u001b[0;31m---------------------------------------------------------------------------\u001b[0m",
            "\u001b[0;31mTypeError\u001b[0m                                 Traceback (most recent call last)",
            "\u001b[0;32m<ipython-input-10-78ab12a3de28>\u001b[0m in \u001b[0;36m<module>\u001b[0;34m()\u001b[0m\n\u001b[0;32m----> 1\u001b[0;31m \u001b[0mdf\u001b[0m \u001b[0;34m=\u001b[0m \u001b[0mdf\u001b[0m\u001b[0;34m.\u001b[0m\u001b[0mdrop\u001b[0m\u001b[0;34m(\u001b[0m\u001b[0;34m[\u001b[0m\u001b[0;36m0\u001b[0m\u001b[0;34m]\u001b[0m\u001b[0;34m,\u001b[0m\u001b[0;34m[\u001b[0m\u001b[0;36m21\u001b[0m\u001b[0;34m]\u001b[0m\u001b[0;34m,\u001b[0m\u001b[0;34m[\u001b[0m\u001b[0;36m22\u001b[0m\u001b[0;34m]\u001b[0m\u001b[0;34m,\u001b[0m \u001b[0maxis\u001b[0m\u001b[0;34m=\u001b[0m\u001b[0;36m0\u001b[0m\u001b[0;34m,\u001b[0m \u001b[0minplace\u001b[0m \u001b[0;34m=\u001b[0m \u001b[0;32mTrue\u001b[0m\u001b[0;34m)\u001b[0m\u001b[0;34m\u001b[0m\u001b[0;34m\u001b[0m\u001b[0m\n\u001b[0m",
            "\u001b[0;31mTypeError\u001b[0m: drop() got multiple values for argument 'axis'"
          ]
        }
      ]
    },
    {
      "cell_type": "code",
      "metadata": {
        "id": "gtvtdRJakwkH",
        "colab": {
          "base_uri": "https://localhost:8080/",
          "height": 173
        },
        "outputId": "9b406eae-d7a5-442a-e5f0-71958e149d5f"
      },
      "source": [
        "df.head()"
      ],
      "execution_count": null,
      "outputs": [
        {
          "output_type": "error",
          "ename": "AttributeError",
          "evalue": "ignored",
          "traceback": [
            "\u001b[0;31m---------------------------------------------------------------------------\u001b[0m",
            "\u001b[0;31mAttributeError\u001b[0m                            Traceback (most recent call last)",
            "\u001b[0;32m<ipython-input-26-c42a15b2c7cf>\u001b[0m in \u001b[0;36m<module>\u001b[0;34m()\u001b[0m\n\u001b[0;32m----> 1\u001b[0;31m \u001b[0mdf\u001b[0m\u001b[0;34m.\u001b[0m\u001b[0mhead\u001b[0m\u001b[0;34m(\u001b[0m\u001b[0;34m)\u001b[0m\u001b[0;34m\u001b[0m\u001b[0;34m\u001b[0m\u001b[0m\n\u001b[0m",
            "\u001b[0;31mAttributeError\u001b[0m: 'NoneType' object has no attribute 'head'"
          ]
        }
      ]
    },
    {
      "cell_type": "code",
      "metadata": {
        "id": "ByD2RONhsXIq"
      },
      "source": [
        "df[\"pop\"]= df[\"pop\"]/df[\"pop\"].max()"
      ],
      "execution_count": null,
      "outputs": []
    },
    {
      "cell_type": "code",
      "metadata": {
        "id": "eGJa690UsW_D"
      },
      "source": [
        "df[\"pop\"]= df[\"pop\"]/df[\"pop\"].max()\n",
        "df[\"pop_density\"]= df[\"pop_density\"]/df[\"pop_density\"].max()\n",
        "df[\"literacy\"]= df[\"literacy\"]/df[\"literacy\"].max()\n",
        "df[\"health_GDP\"]= df[\"health_GDP\"]/df[\"health_GDP\"].max()\n",
        "df[\"testings_10\"]= df[\"testings_10\"]/df[\"testings_10\"].max()\n",
        "df[\"testings_40\"]= df[\"testings_40\"]/df[\"testings_40\"].max()\n",
        "df[\"hospital_beds\"]= df[\"hospital_beds\"]/df[\"hospital_beds\"].max()\n",
        "df[\"recovery_20\"]= df[\"recovery_20\"]/df[\"recovery_20\"].max()\n",
        "df[\"recovery_60\"]= df[\"recovery_60\"]/df[\"recovery_60\"].max()\n"
      ],
      "execution_count": null,
      "outputs": []
    },
    {
      "cell_type": "code",
      "metadata": {
        "id": "EvPnf1mBsWwB",
        "colab": {
          "base_uri": "https://localhost:8080/",
          "height": 206
        },
        "outputId": "2cbf71e1-d1bd-4dae-c164-628be8362034"
      },
      "source": [
        "df.head()"
      ],
      "execution_count": null,
      "outputs": [
        {
          "output_type": "execute_result",
          "data": {
            "text/html": [
              "<div>\n",
              "<style scoped>\n",
              "    .dataframe tbody tr th:only-of-type {\n",
              "        vertical-align: middle;\n",
              "    }\n",
              "\n",
              "    .dataframe tbody tr th {\n",
              "        vertical-align: top;\n",
              "    }\n",
              "\n",
              "    .dataframe thead th {\n",
              "        text-align: right;\n",
              "    }\n",
              "</style>\n",
              "<table border=\"1\" class=\"dataframe\">\n",
              "  <thead>\n",
              "    <tr style=\"text-align: right;\">\n",
              "      <th></th>\n",
              "      <th>country</th>\n",
              "      <th>pop</th>\n",
              "      <th>pop_density</th>\n",
              "      <th>literacy</th>\n",
              "      <th>health_GDP</th>\n",
              "      <th>testings_10</th>\n",
              "      <th>testings_40</th>\n",
              "      <th>hospital_beds</th>\n",
              "      <th>recovery_20</th>\n",
              "      <th>recovery_60</th>\n",
              "      <th>weeks_to_flat</th>\n",
              "    </tr>\n",
              "  </thead>\n",
              "  <tbody>\n",
              "    <tr>\n",
              "      <th>1</th>\n",
              "      <td>Pakistan</td>\n",
              "      <td>1.000000</td>\n",
              "      <td>0.256792</td>\n",
              "      <td>0.651760</td>\n",
              "      <td>0.018408</td>\n",
              "      <td>0.002296</td>\n",
              "      <td>0.001439</td>\n",
              "      <td>0.074534</td>\n",
              "      <td>0.089593</td>\n",
              "      <td>0.262776</td>\n",
              "      <td>0.932990</td>\n",
              "    </tr>\n",
              "    <tr>\n",
              "      <th>2</th>\n",
              "      <td>Bangladesh</td>\n",
              "      <td>0.733636</td>\n",
              "      <td>1.000000</td>\n",
              "      <td>0.730873</td>\n",
              "      <td>0.016567</td>\n",
              "      <td>0.001435</td>\n",
              "      <td>0.001439</td>\n",
              "      <td>0.099379</td>\n",
              "      <td>0.043020</td>\n",
              "      <td>0.220202</td>\n",
              "      <td>0.654639</td>\n",
              "    </tr>\n",
              "    <tr>\n",
              "      <th>3</th>\n",
              "      <td>Russia</td>\n",
              "      <td>0.656818</td>\n",
              "      <td>0.007960</td>\n",
              "      <td>1.000000</td>\n",
              "      <td>0.201104</td>\n",
              "      <td>0.020086</td>\n",
              "      <td>0.043635</td>\n",
              "      <td>1.000000</td>\n",
              "      <td>0.126519</td>\n",
              "      <td>0.195281</td>\n",
              "      <td>0.458763</td>\n",
              "    </tr>\n",
              "    <tr>\n",
              "      <th>4</th>\n",
              "      <td>Egypt</td>\n",
              "      <td>0.447273</td>\n",
              "      <td>0.092057</td>\n",
              "      <td>0.713627</td>\n",
              "      <td>0.036815</td>\n",
              "      <td>0.002869</td>\n",
              "      <td>0.001439</td>\n",
              "      <td>0.198758</td>\n",
              "      <td>0.413406</td>\n",
              "      <td>0.249309</td>\n",
              "      <td>1.000000</td>\n",
              "    </tr>\n",
              "    <tr>\n",
              "      <th>5</th>\n",
              "      <td>Germany</td>\n",
              "      <td>0.377273</td>\n",
              "      <td>0.215608</td>\n",
              "      <td>0.992680</td>\n",
              "      <td>1.000000</td>\n",
              "      <td>0.054519</td>\n",
              "      <td>0.033565</td>\n",
              "      <td>0.993789</td>\n",
              "      <td>0.019676</td>\n",
              "      <td>0.751733</td>\n",
              "      <td>0.262887</td>\n",
              "    </tr>\n",
              "  </tbody>\n",
              "</table>\n",
              "</div>"
            ],
            "text/plain": [
              "     country        pop  pop_density  ...  recovery_20  recovery_60  weeks_to_flat\n",
              "1    Pakistan  1.000000     0.256792  ...     0.089593     0.262776       0.932990\n",
              "2  Bangladesh  0.733636     1.000000  ...     0.043020     0.220202       0.654639\n",
              "3      Russia  0.656818     0.007960  ...     0.126519     0.195281       0.458763\n",
              "4       Egypt  0.447273     0.092057  ...     0.413406     0.249309       1.000000\n",
              "5     Germany  0.377273     0.215608  ...     0.019676     0.751733       0.262887\n",
              "\n",
              "[5 rows x 11 columns]"
            ]
          },
          "metadata": {
            "tags": []
          },
          "execution_count": 29
        }
      ]
    },
    {
      "cell_type": "code",
      "metadata": {
        "id": "LOygMA4luHyP"
      },
      "source": [
        "df[\"weeks_to_flat\"]= df[\"weeks_to_flat\"]/df[\"weeks_to_flat\"].max()"
      ],
      "execution_count": null,
      "outputs": []
    },
    {
      "cell_type": "code",
      "metadata": {
        "id": "k5hfWdPGTmhs",
        "colab": {
          "base_uri": "https://localhost:8080/",
          "height": 295
        },
        "outputId": "c0cfca3c-7f6b-43db-da29-8102b7c27daa"
      },
      "source": [
        "test1 = df['testings_10']\n",
        "time = df['weeks_to_flat']\n",
        "plt.scatter( time,test1, edgecolors='r')\n",
        "plt.xlabel('test1')\n",
        "plt.ylabel('time')\n",
        "plt.title('Initial testings')\n",
        "plt.show()"
      ],
      "execution_count": null,
      "outputs": [
        {
          "output_type": "display_data",
          "data": {
            "image/png": "[encoded data removed]",
            "text/plain": [
              "<Figure size 432x288 with 1 Axes>"
            ]
          },
          "metadata": {
            "tags": [],
            "needs_background": "light"
          }
        }
      ]
    },
    {
      "cell_type": "code",
      "metadata": {
        "id": "mgGnICkCcBli",
        "colab": {
          "base_uri": "https://localhost:8080/",
          "height": 295
        },
        "outputId": "43ee06ca-d4bd-46e6-8273-c50e85f94d20"
      },
      "source": [
        "test2 = df['testings_40']\n",
        "time = df['weeks_to_flat']\n",
        "plt.scatter(time,test2 , edgecolors='r')\n",
        "plt.xlabel('test2')\n",
        "plt.ylabel('time')\n",
        "plt.title('40 day testings')\n",
        "plt.show()"
      ],
      "execution_count": null,
      "outputs": [
        {
          "output_type": "display_data",
          "data": {
            "image/png": "[encoded data removed]",
            "text/plain": [
              "<Figure size 432x288 with 1 Axes>"
            ]
          },
          "metadata": {
            "tags": [],
            "needs_background": "light"
          }
        }
      ]
    },
    {
      "cell_type": "code",
      "metadata": {
        "id": "3WHUq06nckw9",
        "colab": {
          "base_uri": "https://localhost:8080/",
          "height": 295
        },
        "outputId": "17f062fa-5914-4bb0-fc4d-4994bdd5d97b"
      },
      "source": [
        "health = df['health_GDP']\n",
        "time = df['weeks_to_flat']\n",
        "plt.scatter( time,health , edgecolors='r')\n",
        "plt.xlabel('health')\n",
        "plt.ylabel('time')\n",
        "plt.title('health time')\n",
        "plt.show()"
      ],
      "execution_count": null,
      "outputs": [
        {
          "output_type": "display_data",
          "data": {
            "image/png": "[encoded data removed]",
            "text/plain": [
              "<Figure size 432x288 with 1 Axes>"
            ]
          },
          "metadata": {
            "tags": [],
            "needs_background": "light"
          }
        }
      ]
    },
    {
      "cell_type": "code",
      "metadata": {
        "id": "ZLilIZHyczsd",
        "colab": {
          "base_uri": "https://localhost:8080/",
          "height": 295
        },
        "outputId": "79a94129-8d70-46e7-85b9-18ad679b004a"
      },
      "source": [
        "literacy = df['literacy']\n",
        "time = df['weeks_to_flat']\n",
        "plt.scatter( time,literacy, edgecolors='r')\n",
        "plt.xlabel('literacy')\n",
        "plt.ylabel('time')\n",
        "plt.title('literacy time')\n",
        "plt.show()"
      ],
      "execution_count": null,
      "outputs": [
        {
          "output_type": "display_data",
          "data": {
            "image/png": "[encoded data removed]",
            "text/plain": [
              "<Figure size 432x288 with 1 Axes>"
            ]
          },
          "metadata": {
            "tags": [],
            "needs_background": "light"
          }
        }
      ]
    },
    {
      "cell_type": "code",
      "metadata": {
        "id": "xAvraaNWdGoA",
        "colab": {
          "base_uri": "https://localhost:8080/",
          "height": 295
        },
        "outputId": "bae77cb4-a7f1-484b-f0ea-71a8a92dbb21"
      },
      "source": [
        "beds = df['hospital_beds']\n",
        "time = df['weeks_to_flat']\n",
        "plt.scatter( time,beds, edgecolors='b')\n",
        "plt.xlabel('beds')\n",
        "plt.ylabel('time')\n",
        "plt.title('beds time')\n",
        "plt.show()"
      ],
      "execution_count": null,
      "outputs": [
        {
          "output_type": "display_data",
          "data": {
            "image/png": "[encoded data removed]",
            "text/plain": [
              "<Figure size 432x288 with 1 Axes>"
            ]
          },
          "metadata": {
            "tags": [],
            "needs_background": "light"
          }
        }
      ]
    },
    {
      "cell_type": "code",
      "metadata": {
        "id": "TbO1M9y7dZDS",
        "colab": {
          "base_uri": "https://localhost:8080/",
          "height": 296
        },
        "outputId": "8f441a2a-e3d4-4bfe-c9ee-9b2b5e0715d2"
      },
      "source": [
        "recovery_20 = df['recovery_20']\n",
        "time = df['weeks_to_flat']\n",
        "plt.scatter( time,recovery_20, edgecolors='r')\n",
        "plt.xlabel('recovery_20')\n",
        "plt.ylabel('time')\n",
        "plt.title('beds time')\n",
        "plt.show()"
      ],
      "execution_count": null,
      "outputs": [
        {
          "output_type": "display_data",
          "data": {
            "image/png": "[encoded data removed]",
            "text/plain": [
              "<Figure size 432x288 with 1 Axes>"
            ]
          },
          "metadata": {
            "tags": [],
            "needs_background": "light"
          }
        }
      ]
    },
    {
      "cell_type": "code",
      "metadata": {
        "id": "RCUyJqsodoNb",
        "colab": {
          "base_uri": "https://localhost:8080/",
          "height": 296
        },
        "outputId": "7f77edef-f31a-4e7f-a6eb-8066a3b1cfb6"
      },
      "source": [
        "recovery_60 = df['recovery_60']\n",
        "time = df['weeks_to_flat']\n",
        "plt.scatter( time,recovery_60, edgecolors='r')\n",
        "plt.xlabel('recovery_60')\n",
        "plt.ylabel('time')\n",
        "plt.title('beds time')\n",
        "plt.show()"
      ],
      "execution_count": null,
      "outputs": [
        {
          "output_type": "display_data",
          "data": {
            "image/png": "[encoded data removed]",
            "text/plain": [
              "<Figure size 432x288 with 1 Axes>"
            ]
          },
          "metadata": {
            "tags": [],
            "needs_background": "light"
          }
        }
      ]
    },
    {
      "cell_type": "code",
      "metadata": {
        "id": "Ey4WE6bzwMcm",
        "colab": {
          "base_uri": "https://localhost:8080/",
          "height": 74
        },
        "outputId": "503f4d42-bd12-4c24-b573-c50870f372a7"
      },
      "source": [
        "import seaborn as sns\n"
      ],
      "execution_count": null,
      "outputs": [
        {
          "output_type": "stream",
          "text": [
            "/usr/local/lib/python3.6/dist-packages/statsmodels/tools/_testing.py:19: FutureWarning: pandas.util.testing is deprecated. Use the functions in the public API at pandas.testing instead.\n",
            "  import pandas.util.testing as tm\n"
          ],
          "name": "stderr"
        }
      ]
    },
    {
      "cell_type": "code",
      "metadata": {
        "id": "HyupLyFTF8As"
      },
      "source": [
        "X = df.iloc[:,1 :-1].values\n",
        "y = df.iloc[:, -1].values"
      ],
      "execution_count": null,
      "outputs": []
    },
    {
      "cell_type": "code",
      "metadata": {
        "id": "YQGE1MQER4Ce"
      },
      "source": [
        "from sklearn.model_selection import train_test_split\n",
        "X_train, X_test, y_train, y_test = train_test_split(X, y, test_size = 0.2, random_state = 0)"
      ],
      "execution_count": null,
      "outputs": []
    },
    {
      "cell_type": "code",
      "metadata": {
        "id": "sIazp3KrSEHr",
        "colab": {
          "base_uri": "https://localhost:8080/",
          "height": 35
        },
        "outputId": "8a832bc9-bb26-477b-9eac-97501f30f0b0"
      },
      "source": [
        "from sklearn.linear_model import LinearRegression\n",
        "regressor = LinearRegression()\n",
        "regressor.fit(X_train, y_train)"
      ],
      "execution_count": null,
      "outputs": [
        {
          "output_type": "execute_result",
          "data": {
            "text/plain": [
              "LinearRegression(copy_X=True, fit_intercept=True, n_jobs=None, normalize=False)"
            ]
          },
          "metadata": {
            "tags": []
          },
          "execution_count": 33
        }
      ]
    },
    {
      "cell_type": "code",
      "metadata": {
        "id": "N1f679oLSHLL",
        "colab": {
          "base_uri": "https://localhost:8080/",
          "height": 109
        },
        "outputId": "a0aa94e5-10cc-4e79-ab1f-bf5eca3a55ec"
      },
      "source": [
        "y_pred = regressor.predict(X_test)\n",
        "np.set_printoptions(precision=2)\n",
        "print(np.concatenate((y_pred.reshape(len(y_pred),1), y_test.reshape(len(y_test),1)),1))"
      ],
      "execution_count": null,
      "outputs": [
        {
          "output_type": "stream",
          "text": [
            "[[0.48 0.26]\n",
            " [0.69 0.6 ]\n",
            " [0.51 0.93]\n",
            " [0.09 0.65]\n",
            " [0.67 0.43]]\n"
          ],
          "name": "stdout"
        }
      ]
    },
    {
      "cell_type": "code",
      "metadata": {
        "id": "71i1ZRjbSKjt",
        "colab": {
          "base_uri": "https://localhost:8080/",
          "height": 35
        },
        "outputId": "7098db25-2bd6-4a9d-d9d6-adb9a7481741"
      },
      "source": [
        "regressor.score(X_test , y_test)"
      ],
      "execution_count": null,
      "outputs": [
        {
          "output_type": "execute_result",
          "data": {
            "text/plain": [
              "-1.411195529891176"
            ]
          },
          "metadata": {
            "tags": []
          },
          "execution_count": 36
        }
      ]
    },
    {
      "cell_type": "code",
      "metadata": {
        "id": "DYxz4VhywL1Z"
      },
      "source": [
        ""
      ],
      "execution_count": null,
      "outputs": []
    },
    {
      "cell_type": "code",
      "metadata": {
        "id": "Wca0fvjKwLzd"
      },
      "source": [
        ""
      ],
      "execution_count": null,
      "outputs": []
    },
    {
      "cell_type": "code",
      "metadata": {
        "id": "M9KzUntpwLxn"
      },
      "source": [
        ""
      ],
      "execution_count": null,
      "outputs": []
    },
    {
      "cell_type": "code",
      "metadata": {
        "id": "tJcY_YDMwLv6"
      },
      "source": [
        ""
      ],
      "execution_count": null,
      "outputs": []
    },
    {
      "cell_type": "code",
      "metadata": {
        "id": "CnHnLSFSwLtS"
      },
      "source": [
        ""
      ],
      "execution_count": null,
      "outputs": []
    },
    {
      "cell_type": "code",
      "metadata": {
        "id": "PA6Wpm_BwLnX"
      },
      "source": [
        ""
      ],
      "execution_count": null,
      "outputs": []
    },
    {
      "cell_type": "code",
      "metadata": {
        "id": "kmC9pLffwLlK"
      },
      "source": [
        ""
      ],
      "execution_count": null,
      "outputs": []
    },
    {
      "cell_type": "code",
      "metadata": {
        "id": "LHKIVOZTwLgc"
      },
      "source": [
        ""
      ],
      "execution_count": null,
      "outputs": []
    }
  ]
}